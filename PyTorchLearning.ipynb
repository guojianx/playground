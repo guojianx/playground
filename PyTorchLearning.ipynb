{
  "nbformat": 4,
  "nbformat_minor": 0,
  "metadata": {
    "colab": {
      "provenance": [],
      "authorship_tag": "ABX9TyPJmDZlEYL/ypegk8m168AE",
      "include_colab_link": true
    },
    "kernelspec": {
      "name": "python3",
      "display_name": "Python 3"
    },
    "language_info": {
      "name": "python"
    }
  },
  "cells": [
    {
      "cell_type": "markdown",
      "metadata": {
        "id": "view-in-github",
        "colab_type": "text"
      },
      "source": [
        "<a href=\"https://colab.research.google.com/github/guojianx/try/blob/main/PyTorchLearning.ipynb\" target=\"_parent\"><img src=\"https://colab.research.google.com/assets/colab-badge.svg\" alt=\"Open In Colab\"/></a>"
      ]
    },
    {
      "cell_type": "code",
      "execution_count": 7,
      "metadata": {
        "colab": {
          "base_uri": "https://localhost:8080/"
        },
        "id": "lB5emV7yreDF",
        "outputId": "9c584dc0-1fbf-442d-a496-4e43672f800f"
      },
      "outputs": [
        {
          "output_type": "execute_result",
          "data": {
            "text/plain": [
              "tensor([0., 1., 2., 3.], requires_grad=True)"
            ]
          },
          "metadata": {},
          "execution_count": 7
        }
      ],
      "source": [
        "import torch\n",
        "x = torch.arange(4.0)\n",
        "x.requires_grad_(True)"
      ]
    },
    {
      "cell_type": "markdown",
      "source": [
        "* torch.dot(x, x) => x·x 点乘表示求矩阵x的内积\n",
        "* 输出结果中有一个隐式的求梯度函数 grad_fn = ..."
      ],
      "metadata": {
        "id": "2MbqPaX8s96P"
      }
    },
    {
      "cell_type": "code",
      "source": [
        "y = 2 * torch.dot(x, x)"
      ],
      "metadata": {
        "id": "OSvXoCBis8bX"
      },
      "execution_count": 15,
      "outputs": []
    },
    {
      "cell_type": "markdown",
      "source": [
        "通过反向传播函数来计算y关于x每个分量的梯度"
      ],
      "metadata": {
        "id": "ri6jiXv1u7BY"
      }
    },
    {
      "cell_type": "code",
      "source": [
        "y.backward()\n",
        "x.grad"
      ],
      "metadata": {
        "colab": {
          "base_uri": "https://localhost:8080/"
        },
        "id": "8G5rrTxBuv_t",
        "outputId": "0515c3a2-e3e2-4ade-d517-9dda4469c0df"
      },
      "execution_count": 16,
      "outputs": [
        {
          "output_type": "execute_result",
          "data": {
            "text/plain": [
              "tensor([ 0., 20., 40., 60.])"
            ]
          },
          "metadata": {},
          "execution_count": 16
        }
      ]
    },
    {
      "cell_type": "code",
      "source": [
        "x.grad == 4 * x"
      ],
      "metadata": {
        "colab": {
          "base_uri": "https://localhost:8080/"
        },
        "id": "BaNkg4FbufE7",
        "outputId": "f552a52e-cc4e-441b-c231-1d39adceca81"
      },
      "execution_count": 12,
      "outputs": [
        {
          "output_type": "execute_result",
          "data": {
            "text/plain": [
              "tensor([ True, False, False, False])"
            ]
          },
          "metadata": {},
          "execution_count": 12
        }
      ]
    },
    {
      "cell_type": "code",
      "source": [],
      "metadata": {
        "id": "yUoLneu9uk3g"
      },
      "execution_count": null,
      "outputs": []
    }
  ]
}