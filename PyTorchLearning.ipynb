{
  "nbformat": 4,
  "nbformat_minor": 0,
  "metadata": {
    "colab": {
      "provenance": [],
      "authorship_tag": "ABX9TyN46MBpPf5ehcf0S4DrbPlX",
      "include_colab_link": true
    },
    "kernelspec": {
      "name": "python3",
      "display_name": "Python 3"
    },
    "language_info": {
      "name": "python"
    }
  },
  "cells": [
    {
      "cell_type": "markdown",
      "metadata": {
        "id": "view-in-github",
        "colab_type": "text"
      },
      "source": [
        "<a href=\"https://colab.research.google.com/github/guojianx/try/blob/main/PyTorchLearning.ipynb\" target=\"_parent\"><img src=\"https://colab.research.google.com/assets/colab-badge.svg\" alt=\"Open In Colab\"/></a>"
      ]
    },
    {
      "cell_type": "code",
      "execution_count": 7,
      "metadata": {
        "colab": {
          "base_uri": "https://localhost:8080/"
        },
        "id": "lB5emV7yreDF",
        "outputId": "9c584dc0-1fbf-442d-a496-4e43672f800f"
      },
      "outputs": [
        {
          "output_type": "execute_result",
          "data": {
            "text/plain": [
              "tensor([0., 1., 2., 3.], requires_grad=True)"
            ]
          },
          "metadata": {},
          "execution_count": 7
        }
      ],
      "source": [
        "import torch\n",
        "x = torch.arange(4.0)\n",
        "x.requires_grad_(True)"
      ]
    },
    {
      "cell_type": "markdown",
      "source": [
        "* torch.dot(x, x) => x·x 点乘表示求矩阵x的内积\n",
        "* 输出结果中有一个隐式的求梯度函数 grad_fn = ..."
      ],
      "metadata": {
        "id": "2MbqPaX8s96P"
      }
    },
    {
      "cell_type": "code",
      "source": [
        "\n",
        "y = 2 * torch.dot(x, x)\n",
        "y"
      ],
      "metadata": {
        "colab": {
          "base_uri": "https://localhost:8080/"
        },
        "id": "OSvXoCBis8bX",
        "outputId": "674535a5-bbf2-40e9-e9d3-5b08f91720c2"
      },
      "execution_count": 8,
      "outputs": [
        {
          "output_type": "execute_result",
          "data": {
            "text/plain": [
              "tensor(28., grad_fn=<MulBackward0>)"
            ]
          },
          "metadata": {},
          "execution_count": 8
        }
      ]
    }
  ]
}